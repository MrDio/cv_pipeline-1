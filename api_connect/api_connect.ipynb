{
 "cells": [
  {
   "cell_type": "code",
   "execution_count": null,
   "metadata": {},
   "outputs": [],
   "source": [
    "\n",
    "import json\n",
    "import numpy as np\n",
    "import matplotlib.pyplot as plt\n",
    "try:\n",
    "    import pyrealsense2 as rs\n",
    "except ImportError:\n",
    "    print(\"Unable to import pyrealsense2.\")\n",
    "\n",
    "\n",
    "class RealsenseSensor():\n",
    "    \"\"\"Class for interacting with a RealSense D400-series sensor.\n",
    "\n",
    "    pyrealsense2 should be installed from source with the following\n",
    "    commands:\n",
    "    \n",
    "    FIRST TRY PIP INSTALL!!!! If this does not work for you, then go ahead:\n",
    "\n",
    "    >>> git clone https://github.com/IntelRealSense/librealsense\n",
    "    >>> cd librealsense\n",
    "    >>> mkdir build\n",
    "    >>> cd build\n",
    "    >>> cmake .. \\\n",
    "        -DBUILD_EXAMPLES=true \\\n",
    "        -DBUILD_WITH_OPENMP=false \\\n",
    "        -DHWM_OVER_XU=false \\\n",
    "        -DBUILD_PYTHON_BINDINGS=true \\\n",
    "        -DPYTHON_EXECUTABLE:FILEPATH=/path/to/your/python/library/ \\\n",
    "        -G Unix\\ Makefiles\n",
    "    >>> make -j4\n",
    "    >>> sudo make install\n",
    "    >>> export PYTHONPATH=$PYTHONPATH:/usr/local/lib\n",
    "    \"\"\"\n",
    "\n",
    "    def __init__(self, sn):\n",
    "        self._running = None,\n",
    "        self.id = sn\n",
    "        self._pipe = rs.pipeline()\n",
    "        self._rs_cfg = rs.config()\n",
    "        self._align = rs.align(rs.stream.color)\n",
    "        self._intrinsics = {}\n",
    "        ctx = rs.context()\n",
    "        # prints out cams and S/N, which should be defined as id in config\n",
    "        for d in ctx.devices:\n",
    "            print(\"Cam {} connected.\".format(d))\n",
    "        \n",
    "  \n",
    "\n",
    "    def __del__(self):\n",
    "        if self._running:\n",
    "            self.stop()\n",
    "\n",
    "    def _setup_pipe(self):\n",
    "        self._rs_cfg.enable_device(self.id)\n",
    "        self._rs_cfg.enable_stream(\n",
    "            rs.stream.color,\n",
    "            640,\n",
    "            480,\n",
    "            rs.format.bgr8,\n",
    "            30\n",
    "        )\n",
    "        self._rs_cfg.enable_stream(\n",
    "            rs.stream.depth,\n",
    "            640,\n",
    "            480,\n",
    "            rs.format.z16,\n",
    "            30\n",
    "        )\n",
    "\n",
    "    def _get_intrinsics(self):\n",
    "        stream = self._profile.get_stream(rs.stream.color)\n",
    "        obj = stream.as_video_stream_profile().get_intrinsics()\n",
    "        self._intrinsics = obj\n",
    "\n",
    "    def start(self):\n",
    "        self._setup_pipe()\n",
    "        self._profile = self._pipe.start(self._rs_cfg)\n",
    "        self._get_intrinsics()\n",
    "        self._set_depth_scale()\n",
    "        for _ in range(5):\n",
    "            self._pipe.wait_for_frames()\n",
    "        self._running = True\n",
    "\n",
    "    def stop(self):\n",
    "        if not self._running:\n",
    "            return False\n",
    "        self._pipe.stop()\n",
    "        self._running = False\n",
    "        return True\n",
    "\n",
    "    def _to_numpy(self, frame, dtype):\n",
    "        arr = np.asanyarray(frame.get_data(), dtype=dtype)\n",
    "        return arr\n",
    "\n",
    "    def _read_image(self):\n",
    "        \n",
    "        frames = self._pipe.wait_for_frames()\n",
    "        color_frame = frames.get_color_frame()\n",
    "        depth_frame = frames.get_depth_frame()\n",
    "        \n",
    "        depth_image = self._to_numpy(depth_frame, np.float32)\n",
    "\n",
    "        depth_image *= self._depth_scale\n",
    "        color_im = self._to_numpy(color_frame, np.uint8)\n",
    "        return color_im, depth_image\n",
    "    \n",
    "    \n",
    "    def _set_depth_scale(self):\n",
    "        sensor = self._profile.get_device().first_depth_sensor()\n",
    "        self._depth_scale = sensor.get_depth_scale()\n",
    "    \n",
    "    def frames(self):\n",
    "        color_im, depth_im = self._read_image()\n",
    "        return color_im, depth_im\n",
    "\n"
   ]
  },
  {
   "cell_type": "code",
   "execution_count": null,
   "metadata": {},
   "outputs": [],
   "source": [
    "import sampleClient\n",
    "import cv2\n",
    "sensor = RealsenseSensor(\"832112070584\")\n",
    "sensor.start()\n"
   ]
  },
  {
   "cell_type": "code",
   "execution_count": null,
   "metadata": {},
   "outputs": [],
   "source": [
    "img_bgr, d = sensor.frames()\n",
    "d.dtype"
   ]
  },
  {
   "cell_type": "code",
   "execution_count": null,
   "metadata": {},
   "outputs": [],
   "source": [
    "plt.imshow(img_bgr)"
   ]
  },
  {
   "cell_type": "code",
   "execution_count": null,
   "metadata": {},
   "outputs": [],
   "source": [
    "intrinsics = {\n",
    "    \"cx\": sensor._intrinsics.ppx,\n",
    "    \"cy\": sensor._intrinsics.ppy,\n",
    "    \"fx\": sensor._intrinsics.fx,\n",
    "    \"fy\": sensor._intrinsics.fy\n",
    "}"
   ]
  },
  {
   "cell_type": "code",
   "execution_count": null,
   "metadata": {},
   "outputs": [],
   "source": [
    "segmask = sampleClient.predictMask(d, **intrinsics)"
   ]
  },
  {
   "cell_type": "code",
   "execution_count": null,
   "metadata": {},
   "outputs": [],
   "source": [
    "sampleClient.predictGQCNN_pj(img_bgr, d, **intrinsics)"
   ]
  },
  {
   "cell_type": "code",
   "execution_count": null,
   "metadata": {},
   "outputs": [],
   "source": [
    "sampleClient.predictFCGQCNN_pj(img_bgr, d, segmask['masks'][0], **intrinsics)"
   ]
  },
  {
   "cell_type": "code",
   "execution_count": null,
   "metadata": {},
   "outputs": [],
   "source": []
  }
 ],
 "metadata": {
  "kernelspec": {
   "display_name": "Python 3",
   "language": "python",
   "name": "python3"
  },
  "language_info": {
   "codemirror_mode": {
    "name": "ipython",
    "version": 3
   },
   "file_extension": ".py",
   "mimetype": "text/x-python",
   "name": "python",
   "nbconvert_exporter": "python",
   "pygments_lexer": "ipython3",
   "version": "3.6.8"
  }
 },
 "nbformat": 4,
 "nbformat_minor": 4
}
